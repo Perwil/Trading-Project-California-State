{
  "cells": [
    {
      "cell_type": "markdown",
      "metadata": {
        "id": "view-in-github",
        "colab_type": "text"
      },
      "source": [
        "<a href=\"https://colab.research.google.com/github/Perwil/Trading-Project-California-State/blob/main/Copy_of_Simple_GROUNDWATER_PROBLEM_CALIFORNIA_STATE.ipynb\" target=\"_parent\"><img src=\"https://colab.research.google.com/assets/colab-badge.svg\" alt=\"Open In Colab\"/></a>"
      ]
    },
    {
      "cell_type": "code",
      "execution_count": null,
      "id": "3bcbf7df",
      "metadata": {
        "id": "3bcbf7df"
      },
      "outputs": [],
      "source": [
        "import numpy as np\n",
        "import pandas as pd\n",
        "import matplotlib.pyplot as plt\n",
        "import random\n",
        "import cvxpy as cp"
      ]
    },
    {
      "cell_type": "code",
      "source": [
        "!git clone https://github.com/cvxpy/cvxpy.git"
      ],
      "metadata": {
        "colab": {
          "base_uri": "https://localhost:8080/"
        },
        "id": "z8VWAIImIVPD",
        "outputId": "6cf3a5b2-6cd8-4594-90f5-ca1362089c8d"
      },
      "id": "z8VWAIImIVPD",
      "execution_count": null,
      "outputs": [
        {
          "output_type": "stream",
          "name": "stdout",
          "text": [
            "Cloning into 'cvxpy'...\n",
            "remote: Enumerating objects: 82586, done.\u001b[K\n",
            "remote: Counting objects: 100% (3005/3005), done.\u001b[K\n",
            "remote: Compressing objects: 100% (789/789), done.\u001b[K\n",
            "remote: Total 82586 (delta 2249), reused 2736 (delta 2073), pack-reused 79581\u001b[K\n",
            "Receiving objects: 100% (82586/82586), 198.20 MiB | 8.02 MiB/s, done.\n",
            "Resolving deltas: 100% (58639/58639), done.\n"
          ]
        }
      ]
    },
    {
      "cell_type": "code",
      "source": [
        "def cas(array_str):\n",
        "    # Remove the brackets and split by space\n",
        "    array_elements = \"array_str\".strip('[]').split()\n",
        "    # Convert the elements to integers\n",
        "    array_elements = [int(element) for element in array_elements]\n",
        "    return array_elements"
      ],
      "metadata": {
        "id": "Q4xqiOHyEOVZ"
      },
      "id": "Q4xqiOHyEOVZ",
      "execution_count": null,
      "outputs": []
    },
    {
      "cell_type": "code",
      "source": [
        "def get_array_of_size_k(k):\n",
        "    while True:\n",
        "        user_input = input(f\"Please enter {k} numbers separated by spaces: \")\n",
        "        try:\n",
        "            array = list(map(float, user_input.split()))\n",
        "            if len(array) == k:\n",
        "                return array\n",
        "            else:\n",
        "                print(f\"Error: You must enter exactly {k} numbers.\")\n",
        "        except ValueError:\n",
        "            print(\"Error: Please enter valid numbers.\")"
      ],
      "metadata": {
        "id": "_8LIKIxzzrLS"
      },
      "id": "_8LIKIxzzrLS",
      "execution_count": null,
      "outputs": []
    },
    {
      "cell_type": "code",
      "source": [
        "def get_array_of_size_n_identical_or_different(n):\n",
        "    #n = int(input(\"Enter the size of the array: \"))\n",
        "    identical = input(\"Do you want all elements to be identical? (True/False): \").strip().lower()\n",
        "\n",
        "    if identical == \"true\":\n",
        "        element = float(input(f\"Enter the identical element to fill the array of size {n}: \"))\n",
        "        array = [element] * n\n",
        "    elif identical == \"false\":\n",
        "        while True:\n",
        "            user_input = input(f\"Enter {n} different numbers separated by spaces: \")\n",
        "            array = list(map(float, user_input.split()))\n",
        "            if len(array) == n and len(set(array)) == n:\n",
        "                break\n",
        "            else:\n",
        "                print(f\"Error: You must enter exactly {n} different numbers.\")\n",
        "    else:\n",
        "        print(\"Invalid input. Please enter 'True' or 'False'.\")\n",
        "        return get_array_of_size_n_identical_or_different()\n",
        "\n",
        "    return array"
      ],
      "metadata": {
        "id": "YPobfbXs0jXE"
      },
      "id": "YPobfbXs0jXE",
      "execution_count": null,
      "outputs": []
    },
    {
      "cell_type": "code",
      "source": [
        "class Groundwater():\n",
        "  def get_array_of_size_k(k):\n",
        "    while True:\n",
        "        user_input = input(f\"Please enter {k} numbers separated by spaces: \")\n",
        "        try:\n",
        "            array = list(map(float, user_input.split()))\n",
        "            if len(array) == k:\n",
        "                return array\n",
        "            else:\n",
        "                print(f\"Error: You must enter exactly {k} numbers.\")\n",
        "        except ValueError:\n",
        "            print(\"Error: Please enter valid numbers.\")\n",
        "  def __init__(self, Number_Agents, Types_Products, Profit_Agent, Amount_Water_acre_feet, Maximum_Water_Consumption_Y_j, Phi_Agent_2, Phi_Agent_3, v):\n",
        "    #self.Types_Products=[2, 2, 2]\n",
        "    self.Types_Products=Types_Products\n",
        "    #self.Profit_Agent=[np.array([10, 10]), np.array([10, 10]), np.array([10, 10])]\n",
        "    self.Profit_Agent=Profit_Agent\n",
        "    #self.Amount_Water_acre_feet=[np.array([5, 5]), np.array([5, 5]), np.array([5, 5])]\n",
        "    self.Amount_Water_acre_feet=Amount_Water_acre_feet\n",
        "    self.Maximum_Water_Consumption_Y_j=Maximum_Water_Consumption_Y_j\n",
        "    #self.Profit_Agent=[get_array_of_size_k(i) for i in Types_Products]\n",
        "    #self.Amount_Water_acre_feet=[get_array_of_size_k(i) for i in Types_Products]\n",
        "    #self.Maximum_Water_Consumption_Y_j=np.array([100000, 750000, 50000])\n",
        "    #self.Phi_Agent_2=np.array([8000, 8000])\n",
        "    self.Phi_Agent_2=Phi_Agent_2\n",
        "    #self.Phi_Agent_3=np.array([8000, 8000])\n",
        "    self.Phi_Agent_3=Phi_Agent_3\n",
        "    self.v=v\n",
        "  def first_opt(self):\n",
        "    Phi_Agent_1=cp.Variable(2)\n",
        "    #self.v = cp.Parameter(nonneg=True)\n",
        "    #self.v.value = 10\n",
        "    Constraints=[]\n",
        "    Constraints+=[self.Amount_Water_acre_feet[0] @ Phi_Agent_1+self.Amount_Water_acre_feet[1] @ self.Phi_Agent_2+self.Amount_Water_acre_feet[2]@ self.Phi_Agent_3==cp.sum(self.Maximum_Water_Consumption_Y_j)]\n",
        "    Constraints+=[Phi_Agent_1[0]>=0, Phi_Agent_1[1]>=0 ]\n",
        "    for i in range(self.Types_Products[0]):\n",
        "      Constraints+=[Phi_Agent_1[i]<=10000000]\n",
        "    Omega=cp.Parameter(3)\n",
        "    Omega.value=np.array([1/3, 1/3, 1/3])\n",
        "    Obj=[self.Profit_Agent[0]@Phi_Agent_1+(self.Maximum_Water_Consumption_Y_j[i]-self.Amount_Water_acre_feet[0]@Phi_Agent_1)*self.v for i in range(3)]\n",
        "    Obj1=[cp.log(Obj[i]) for i in range(3)]\n",
        "    Objective=Omega.value @ Obj1\n",
        "    Problem_to_solve=cp.Problem(cp.Maximize(Objective), Constraints)\n",
        "    Sol=Problem_to_solve.solve()\n",
        "    self.result=np.array([Phi_Agent_1.value[0], Phi_Agent_1.value[1]])\n",
        "    return print(\"Problem Objective is DCP:\", Problem_to_solve.is_dcp()), print('The solution is:', Sol), print(\"Quantity of Products 1:\", self.result)\n",
        "  def second_opt(self):\n",
        "    Phi_Agentb_2=cp.Variable(2)\n",
        "    #self.Phi_Agent_1=self.result\n",
        "    #self.Phi_Agent_3=Phi_Agent_3\n",
        "    #self.v = cp.Parameter(nonneg=True)\n",
        "    #self.v.value = 10\n",
        "    Constraints=[]\n",
        "    Constraints+=[self.Amount_Water_acre_feet[0] @ self.result+self.Amount_Water_acre_feet[1] @ Phi_Agentb_2+self.Amount_Water_acre_feet[2] @ self.Phi_Agent_3==cp.sum(self.Maximum_Water_Consumption_Y_j)]\n",
        "    Constraints+=[Phi_Agentb_2[0]>=0, Phi_Agentb_2[1]>=0 ]\n",
        "    for i in range(self.Types_Products[0]):\n",
        "      Constraints+=[Phi_Agentb_2[i]<=10000000]\n",
        "    Omega=cp.Parameter(3)\n",
        "    Omega.value=np.array([1/3, 1/3, 1/3])\n",
        "    Obj=[self.Profit_Agent[1]@Phi_Agentb_2+(self.Maximum_Water_Consumption_Y_j[i]-self.Amount_Water_acre_feet[0]@Phi_Agentb_2)*self.v for i in range(3)]\n",
        "    Obj1=[cp.log(Obj[i]) for i in range(3)]\n",
        "    Objective=Omega.value @ Obj1\n",
        "    Problem_to_solve=cp.Problem(cp.Maximize(Objective), Constraints)\n",
        "    Sol=Problem_to_solve.solve()\n",
        "    self.result1=np.array([Phi_Agentb_2.value[0], Phi_Agentb_2.value[1]])\n",
        "    return print(\"Problem Objective is DCP:\", Problem_to_solve.is_dcp()), print('The solution is:', Sol), print(\"Quantity of Products 2:\", self.result1)\n",
        "  def Third_opt(self):\n",
        "    Phi_Agentc_3=cp.Variable(2)\n",
        "    #self.Phi_Agent_1=self.result\n",
        "    #self.Phi_Agent_3=Phi_Agent_3\n",
        "    #self.v = cp.Parameter(nonneg=True)\n",
        "    #self.v.value = 10\n",
        "    Constraints=[]\n",
        "    Constraints+=[self.Amount_Water_acre_feet[0] @ self.result+self.Amount_Water_acre_feet[1] @ self.result1 + self.Amount_Water_acre_feet[2] @ Phi_Agentc_3==cp.sum(self.Maximum_Water_Consumption_Y_j)]\n",
        "    Constraints+=[Phi_Agentc_3[0]>=0, Phi_Agentc_3[1]>=0 ]\n",
        "    for i in range(self.Types_Products[0]):\n",
        "      Constraints+=[Phi_Agentc_3[i]<=10000000]\n",
        "    Omega=cp.Parameter(3)\n",
        "    Omega.value=np.array([1/3, 1/3, 1/3])\n",
        "    Obj=[self.Profit_Agent[2]@Phi_Agentc_3+(self.Maximum_Water_Consumption_Y_j[i]-self.Amount_Water_acre_feet[2]@Phi_Agentc_3)*self.v for i in range(3)]\n",
        "    Obj1=[cp.log(Obj[i]) for i in range(3)]\n",
        "    Objective=Omega.value @ Obj1\n",
        "    Problem_to_solve=cp.Problem(cp.Maximize(Objective), Constraints)\n",
        "    Sol=Problem_to_solve.solve()\n",
        "    self.result2=np.array([Phi_Agentc_3.value[0], Phi_Agentc_3.value[1]])\n",
        "    self.Phi_Agent_2=self.result1\n",
        "    self.Phi_Agent_3=self.result2\n",
        "    return print(\"Problem Objective is DCP:\", Problem_to_solve.is_dcp()), print('The solution is:', Sol), print(\"Quantity of Products 3:\", self.result2)\n"
      ],
      "metadata": {
        "id": "f5vZIAxOm08f"
      },
      "id": "f5vZIAxOm08f",
      "execution_count": null,
      "outputs": []
    },
    {
      "cell_type": "code",
      "source": [
        "#Phi_Agent_2=np.array([8000, 8000])\n",
        "#Phi_Agent_3=np.array([8000, 8000])"
      ],
      "metadata": {
        "id": "K70Zr4JTikRo"
      },
      "id": "K70Zr4JTikRo",
      "execution_count": null,
      "outputs": []
    },
    {
      "cell_type": "code",
      "source": [
        "Testit=Groundwater(3, [2, 2, 2], [np.array([50, 50]), np.array([50, 50]), np.array([50, 50])], [np.array([5, 5]), np.array([5, 5]), np.array([5, 5])],\n",
        "                   np.array([100000, 750000, 50000]), np.array([800, 800]), np.array([8000, 8000]), 10 )"
      ],
      "metadata": {
        "id": "r7-7rWFxsBMX"
      },
      "id": "r7-7rWFxsBMX",
      "execution_count": null,
      "outputs": []
    },
    {
      "cell_type": "code",
      "source": [
        "#Testit=Groundwater(3, [2, 2, 2], [np.array([10, 10]), np.array([10, 10]), np.array([10, 10])], [np.array([5, 5]), np.array([5, 5]), np.array([5, 5])],\n",
        "                  # np.array([100000, 750000, 50000]), np.array([8000, 8000]), np.array([8000, 8000]), 7 )\n",
        "for i in range(10):\n",
        "  Testit.first_opt()\n",
        "  Testit.second_opt()\n",
        "  Testit.Third_opt()\n"
      ],
      "metadata": {
        "colab": {
          "base_uri": "https://localhost:8080/"
        },
        "id": "NSx5-1WTFP1X",
        "outputId": "a9e83203-ec5e-43b5-95e3-6354fa7fab4c"
      },
      "id": "NSx5-1WTFP1X",
      "execution_count": null,
      "outputs": [
        {
          "output_type": "stream",
          "name": "stdout",
          "text": [
            "Problem Objective is DCP: True\n",
            "The solution is: 14.256095837958378\n",
            "Quantity of Products 1: [81199.99855823 81200.00144177]\n",
            "Problem Objective is DCP: True\n",
            "The solution is: 14.256095837958378\n",
            "Quantity of Products 2: [800.00000913 799.99999087]\n",
            "Problem Objective is DCP: True\n",
            "The solution is: 14.256095837958378\n",
            "Quantity of Products 3: [7999.99990701 8000.00009299]\n",
            "Problem Objective is DCP: True\n",
            "The solution is: 14.25609583795838\n",
            "Quantity of Products 1: [81199.99915943 81200.00084057]\n",
            "Problem Objective is DCP: True\n",
            "The solution is: 14.256095837958378\n",
            "Quantity of Products 2: [800.00000914 799.99999086]\n",
            "Problem Objective is DCP: True\n",
            "The solution is: 14.256095837958378\n",
            "Quantity of Products 3: [7999.99990696 8000.00009304]\n",
            "Problem Objective is DCP: True\n",
            "The solution is: 14.256095837958378\n",
            "Quantity of Products 1: [81199.99916813 81200.00083187]\n",
            "Problem Objective is DCP: True\n",
            "The solution is: 14.256095837958378\n",
            "Quantity of Products 2: [799.99999847 800.00000153]\n",
            "Problem Objective is DCP: True\n",
            "The solution is: 14.256095837958378\n",
            "Quantity of Products 3: [7999.99990694 8000.00009306]\n",
            "Problem Objective is DCP: True\n",
            "The solution is: 14.25609583795838\n",
            "Quantity of Products 1: [81199.99916618 81200.00083382]\n",
            "Problem Objective is DCP: True\n",
            "The solution is: 14.256095837958378\n",
            "Quantity of Products 2: [799.99999846 800.00000154]\n",
            "Problem Objective is DCP: True\n",
            "The solution is: 14.256095837958378\n",
            "Quantity of Products 3: [7999.99990709 8000.00009291]\n",
            "Problem Objective is DCP: True\n",
            "The solution is: 14.256095837958378\n",
            "Quantity of Products 1: [81199.99916063 81200.00083937]\n",
            "Problem Objective is DCP: True\n",
            "The solution is: 14.256095837958378\n",
            "Quantity of Products 2: [799.99999491 800.00000509]\n",
            "Problem Objective is DCP: True\n",
            "The solution is: 14.256095837958378\n",
            "Quantity of Products 3: [7999.99990719 8000.00009281]\n",
            "Problem Objective is DCP: True\n",
            "The solution is: 14.256095837958377\n",
            "Quantity of Products 1: [81200.0000983 81199.9999017]\n",
            "Problem Objective is DCP: True\n",
            "The solution is: 14.256095837958378\n",
            "Quantity of Products 2: [799.99999491 800.00000509]\n",
            "Problem Objective is DCP: True\n",
            "The solution is: 14.256095837958378\n",
            "Quantity of Products 3: [7999.99990712 8000.00009288]\n",
            "Problem Objective is DCP: True\n",
            "The solution is: 14.256095837958378\n",
            "Quantity of Products 1: [81200.00041153 81199.99958847]\n",
            "Problem Objective is DCP: True\n",
            "The solution is: 14.256095837958378\n",
            "Quantity of Products 2: [799.99999699 800.00000301]\n",
            "Problem Objective is DCP: True\n",
            "The solution is: 14.256095837958378\n",
            "Quantity of Products 3: [7999.99990716 8000.00009284]\n",
            "Problem Objective is DCP: True\n",
            "The solution is: 14.25609583795838\n",
            "Quantity of Products 1: [81200.0004132 81199.9995868]\n",
            "Problem Objective is DCP: True\n",
            "The solution is: 14.256095837958378\n",
            "Quantity of Products 2: [799.99999699 800.00000301]\n",
            "Problem Objective is DCP: True\n",
            "The solution is: 14.256095837958378\n",
            "Quantity of Products 3: [7999.99990715 8000.00009285]\n",
            "Problem Objective is DCP: True\n",
            "The solution is: 14.25609583795838\n",
            "Quantity of Products 1: [81200.00040767 81199.99959233]\n",
            "Problem Objective is DCP: True\n",
            "The solution is: 14.256095837958378\n",
            "Quantity of Products 2: [799.99999346 800.00000654]\n",
            "Problem Objective is DCP: True\n",
            "The solution is: 14.256095837958378\n",
            "Quantity of Products 3: [7999.99990717 8000.00009283]\n",
            "Problem Objective is DCP: True\n",
            "The solution is: 14.256095837958378\n",
            "Quantity of Products 1: [81200.00071562 81199.99928438]\n",
            "Problem Objective is DCP: True\n",
            "The solution is: 14.256095837958378\n",
            "Quantity of Products 2: [799.99999845 800.00000155]\n",
            "Problem Objective is DCP: True\n",
            "The solution is: 14.256095837958378\n",
            "Quantity of Products 3: [7999.9998569  8000.00014309]\n"
          ]
        }
      ]
    },
    {
      "cell_type": "code",
      "source": [
        "#Testit.Third_opt(np.array([17500.00007789, 17499.99992211]), np.array([2499.99999544, 2500.00000456]))"
      ],
      "metadata": {
        "id": "Nc8Yg673O3kc"
      },
      "id": "Nc8Yg673O3kc",
      "execution_count": null,
      "outputs": []
    },
    {
      "cell_type": "code",
      "source": [
        "Testit.first_opt(np.array([17500.00007789, 17499.99992211]), np.array([2499.99999544, 2500.00000456]))"
      ],
      "metadata": {
        "id": "d2Tka-27SDye"
      },
      "id": "d2Tka-27SDye",
      "execution_count": null,
      "outputs": []
    },
    {
      "cell_type": "code",
      "source": [
        "Testit.second_opt(np.array([2499.99999544, 2500.00000456]))"
      ],
      "metadata": {
        "id": "MbLpJZ-JTkyH"
      },
      "id": "MbLpJZ-JTkyH",
      "execution_count": null,
      "outputs": []
    },
    {
      "cell_type": "code",
      "execution_count": null,
      "id": "cb279a6a",
      "metadata": {
        "id": "cb279a6a"
      },
      "outputs": [],
      "source": [
        "def get_array_of_size_k(k):\n",
        "    while True:\n",
        "        user_input = input(f\"Please enter {k} numbers separated by spaces: \")\n",
        "        try:\n",
        "            array = list(map(float, user_input.split()))\n",
        "            if len(array) == k:\n",
        "                return array\n",
        "            else:\n",
        "                print(f\"Error: You must enter exactly {k} numbers.\")\n",
        "        except ValueError:\n",
        "            print(\"Error: Please enter valid numbers.\")"
      ]
    },
    {
      "cell_type": "code",
      "source": [
        "L=[3, 2]\n",
        "print(\"L\")\n",
        "\"print(L)\""
      ],
      "metadata": {
        "colab": {
          "base_uri": "https://localhost:8080/",
          "height": 54
        },
        "id": "4rXMaM_TzUvZ",
        "outputId": "5e015bd5-cef8-4ac4-abb5-049c7900763e"
      },
      "id": "4rXMaM_TzUvZ",
      "execution_count": null,
      "outputs": [
        {
          "output_type": "stream",
          "name": "stdout",
          "text": [
            "L\n"
          ]
        },
        {
          "output_type": "execute_result",
          "data": {
            "text/plain": [
              "'print(L)'"
            ],
            "application/vnd.google.colaboratory.intrinsic+json": {
              "type": "string"
            }
          },
          "metadata": {},
          "execution_count": 15
        }
      ]
    },
    {
      "cell_type": "code",
      "source": [],
      "metadata": {
        "id": "cAuiuu5NDa93"
      },
      "id": "cAuiuu5NDa93",
      "execution_count": null,
      "outputs": []
    },
    {
      "cell_type": "markdown",
      "source": [],
      "metadata": {
        "id": "rXJ1Do9DQuVC"
      },
      "id": "rXJ1Do9DQuVC"
    },
    {
      "cell_type": "code",
      "execution_count": null,
      "id": "775ac270",
      "metadata": {
        "id": "775ac270"
      },
      "outputs": [],
      "source": [
        " #Number_Agents = int(input(\"Please enter a positive integer: \"))\n",
        " Number_Agents=3"
      ]
    },
    {
      "cell_type": "code",
      "execution_count": null,
      "id": "917302fb",
      "metadata": {
        "id": "917302fb"
      },
      "outputs": [],
      "source": [
        "#Different_types_of_Products_allowed=int(input(\"Please enter a positive integer: \"))\n",
        "Differents_types_of_Products_per_Agent=2"
      ]
    },
    {
      "cell_type": "code",
      "execution_count": null,
      "id": "c7fbbedc",
      "metadata": {
        "scrolled": true,
        "id": "c7fbbedc"
      },
      "outputs": [],
      "source": [
        "#np.random.seed(112)\n",
        "#Types_Products=get_array_of_size_k(Number_Agents)\n",
        "#Types_Products=np.array([random.randint(1, Different_types_of_Products_allowed) for i in range(Number_Agents)])"
      ]
    },
    {
      "cell_type": "code",
      "execution_count": null,
      "id": "06ca1b91",
      "metadata": {
        "id": "06ca1b91"
      },
      "outputs": [],
      "source": [
        "Types_Products=[2, 2, 2]\n",
        "# K=[k_1, k_2, k_3,..k_n]=Different Products types produce by Agents"
      ]
    },
    {
      "cell_type": "code",
      "execution_count": null,
      "id": "e5be6ada",
      "metadata": {
        "scrolled": true,
        "id": "e5be6ada"
      },
      "outputs": [],
      "source": [
        "#List_1=[\"Profit_Agent_\"+str(i) for i in range(Number_Agents)]\n",
        "#List_1"
      ]
    },
    {
      "cell_type": "code",
      "execution_count": null,
      "id": "8d61399b",
      "metadata": {
        "id": "8d61399b"
      },
      "outputs": [],
      "source": [
        "def get_array_of_size_k(k):\n",
        "    while True:\n",
        "        user_input = input(f\"Please enter {k} numbers separated by spaces: \")\n",
        "        try:\n",
        "            array = list(map(float, user_input.split()))\n",
        "            if len(array) == k:\n",
        "                return array\n",
        "            else:\n",
        "                print(f\"Error: You must enter exactly {k} numbers.\")\n",
        "        except ValueError:\n",
        "            print(\"Error: Please enter valid numbers.\")"
      ]
    },
    {
      "cell_type": "code",
      "execution_count": null,
      "id": "95dbc374",
      "metadata": {
        "id": "95dbc374"
      },
      "outputs": [],
      "source": []
    },
    {
      "cell_type": "code",
      "execution_count": null,
      "id": "c83f77d6",
      "metadata": {
        "colab": {
          "base_uri": "https://localhost:8080/"
        },
        "id": "c83f77d6",
        "outputId": "b59bf563-abef-49ef-f744-9487b9ef3820"
      },
      "outputs": [
        {
          "name": "stdout",
          "output_type": "stream",
          "text": [
            "Please enter 2 numbers separated by spaces: 10 10\n",
            "Please enter 2 numbers separated by spaces: 10 10\n",
            "Please enter 2 numbers separated by spaces: 10 10\n"
          ]
        }
      ],
      "source": [
        "#we compute the matrices of Profits of each products of our Agent\n",
        "#Profit_Agent=dict(zip(List_1, [get_array_of_size_k(i) for i in Types_Products]))\n",
        "Profit_Agent=[get_array_of_size_k(i) for i in Types_Products]"
      ]
    },
    {
      "cell_type": "code",
      "execution_count": null,
      "id": "f8310c12",
      "metadata": {
        "colab": {
          "base_uri": "https://localhost:8080/"
        },
        "id": "f8310c12",
        "outputId": "04386d15-c717-45b8-f68c-852cecad8c0b"
      },
      "outputs": [
        {
          "output_type": "execute_result",
          "data": {
            "text/plain": [
              "[[10.0, 10.0], [10.0, 10.0], [10.0, 10.0]]"
            ]
          },
          "metadata": {},
          "execution_count": 16
        }
      ],
      "source": [
        "Profit_Agent"
      ]
    },
    {
      "cell_type": "code",
      "execution_count": null,
      "id": "7e18de19",
      "metadata": {
        "id": "7e18de19"
      },
      "outputs": [],
      "source": [
        "#List_2=[\"Unit_of Good_Water_Consumption_per_Good_Per_Agent_\"+str(i) for i in range(Number_Agents)]\n",
        "#List_2"
      ]
    },
    {
      "cell_type": "code",
      "execution_count": null,
      "id": "deae1aea",
      "metadata": {
        "colab": {
          "base_uri": "https://localhost:8080/"
        },
        "id": "deae1aea",
        "outputId": "89ef1c8a-49d1-405c-a837-5843e03a4ae8"
      },
      "outputs": [
        {
          "name": "stdout",
          "output_type": "stream",
          "text": [
            "Please enter 2 numbers separated by spaces: 5 5\n",
            "Please enter 2 numbers separated by spaces: 5 5\n",
            "Please enter 2 numbers separated by spaces: 5 5\n"
          ]
        },
        {
          "output_type": "execute_result",
          "data": {
            "text/plain": [
              "[[5.0, 5.0], [5.0, 5.0], [5.0, 5.0]]"
            ]
          },
          "metadata": {},
          "execution_count": 18
        }
      ],
      "source": [
        "#Amount_Water_acre_feet=dict(zip(List_2,[get_array_of_size_k(i) for i in Types_Products]))\n",
        "#Amount_Water_acre_feet\n",
        "Amount_Water_acre_feet=[get_array_of_size_k(i) for i in Types_Products]\n",
        "Amount_Water_acre_feet"
      ]
    },
    {
      "cell_type": "code",
      "execution_count": null,
      "id": "c7734315",
      "metadata": {
        "id": "c7734315"
      },
      "outputs": [],
      "source": [
        "def get_array_of_size_n_identical_or_different(n):\n",
        "    #n = int(input(\"Enter the size of the array: \"))\n",
        "    identical = input(\"Do you want all elements to be identical? (True/False): \").strip().lower()\n",
        "\n",
        "    if identical == \"true\":\n",
        "        element = float(input(f\"Enter the identical element to fill the array of size {n}: \"))\n",
        "        array = [element] * n\n",
        "    elif identical == \"false\":\n",
        "        while True:\n",
        "            user_input = input(f\"Enter {n} different numbers separated by spaces: \")\n",
        "            array = list(map(float, user_input.split()))\n",
        "            if len(array) == n and len(set(array)) == n:\n",
        "                break\n",
        "            else:\n",
        "                print(f\"Error: You must enter exactly {n} different numbers.\")\n",
        "    else:\n",
        "        print(\"Invalid input. Please enter 'True' or 'False'.\")\n",
        "        return get_array_of_size_n_identical_or_different()\n",
        "\n",
        "    return array\n",
        "\n",
        "# Example usage\n",
        "#array = get_array_of_size_n_identical_or_different(2)\n",
        "#print(\"You entered the array:\", array)"
      ]
    },
    {
      "cell_type": "code",
      "execution_count": null,
      "id": "eac51ae4",
      "metadata": {
        "id": "eac51ae4"
      },
      "outputs": [],
      "source": [
        "# cost or Price of Extracting one ac-ft of water\n",
        "#Cost_Extracting_q_j=get_array_of_size_n_identical_or_different(Number_Agents)\n",
        "#Cost_Extracting_q_j"
      ]
    },
    {
      "cell_type": "code",
      "execution_count": null,
      "id": "d067dcd4",
      "metadata": {
        "colab": {
          "base_uri": "https://localhost:8080/"
        },
        "id": "d067dcd4",
        "outputId": "55d2cd29-c326-463a-fed8-4bb284a2124f"
      },
      "outputs": [
        {
          "name": "stdout",
          "output_type": "stream",
          "text": [
            "Do you want all elements to be identical? (True/False): false\n",
            "Enter 3 different numbers separated by spaces: 100000 75000 50000\n"
          ]
        },
        {
          "output_type": "execute_result",
          "data": {
            "text/plain": [
              "[100000.0, 75000.0, 50000.0]"
            ]
          },
          "metadata": {},
          "execution_count": 29
        }
      ],
      "source": [
        "# Maximum water consuption Depending on different regime of water High, Medium Low.\n",
        "Maximum_Water_Consumption_Y_j=get_array_of_size_n_identical_or_different(Number_Agents)\n",
        "Maximum_Water_Consumption_Y_j"
      ]
    },
    {
      "cell_type": "code",
      "source": [
        "type(Maximum_Water_Consumption_Y_j)"
      ],
      "metadata": {
        "colab": {
          "base_uri": "https://localhost:8080/"
        },
        "id": "Gl3CgWrherxj",
        "outputId": "e1bb0f22-4c80-419a-eccd-fec9d874717b"
      },
      "id": "Gl3CgWrherxj",
      "execution_count": null,
      "outputs": [
        {
          "output_type": "execute_result",
          "data": {
            "text/plain": [
              "list"
            ]
          },
          "metadata": {},
          "execution_count": 30
        }
      ]
    },
    {
      "cell_type": "code",
      "execution_count": null,
      "id": "fcca90b0",
      "metadata": {
        "id": "fcca90b0"
      },
      "outputs": [],
      "source": [
        "#Production_Variables=[[\"Phi_\"+str(i)+str(j)  for j in range(int(Types_Products[i]))] for i in range(Number_Agents)]\n",
        "import cvxpy as cp\n",
        "Phi_Agent_1=cp.Variable(2)\n",
        "#Phi_Agent_2=cp.Variable(2)\n",
        "#Phi_Agent_3=cp.Variable(2)\n",
        "Phi_Agent_2=np.array([2000, 3000])\n",
        "#Phi_Agent_2[1]=10\n",
        "Phi_Agent_3=np.array([2000, 3000])\n",
        "#Phi_Agent_3[1]=15\n",
        "v = cp.Parameter(nonneg=True)\n",
        "v.value = 5"
      ]
    },
    {
      "cell_type": "code",
      "execution_count": null,
      "id": "2d86058c",
      "metadata": {
        "id": "2d86058c"
      },
      "outputs": [],
      "source": [
        "#Production_Variables"
      ]
    },
    {
      "cell_type": "code",
      "source": [
        "Constraints=[]\n",
        "Constraints+=[Amount_Water_acre_feet[0]@Phi_Agent_1+Amount_Water_acre_feet[1]@Phi_Agent_2+Amount_Water_acre_feet[2]@Phi_Agent_3==cp.sum(Maximum_Water_Consumption_Y_j)]\n",
        "Constraints"
      ],
      "metadata": {
        "id": "32gM2EEbwIHQ",
        "colab": {
          "base_uri": "https://localhost:8080/"
        },
        "outputId": "a337d9dc-76cb-4c3f-87bb-948bf0dc85b7"
      },
      "id": "32gM2EEbwIHQ",
      "execution_count": null,
      "outputs": [
        {
          "output_type": "execute_result",
          "data": {
            "text/plain": [
              "[Equality(Expression(AFFINE, UNKNOWN, ()), Constant(CONSTANT, NONNEGATIVE, ()))]"
            ]
          },
          "metadata": {},
          "execution_count": 43
        }
      ]
    },
    {
      "cell_type": "code",
      "execution_count": null,
      "id": "67f86583",
      "metadata": {
        "id": "67f86583",
        "colab": {
          "base_uri": "https://localhost:8080/"
        },
        "outputId": "5cf2ac10-4200-4313-8028-09d0af6be772"
      },
      "outputs": [
        {
          "output_type": "execute_result",
          "data": {
            "text/plain": [
              "[Equality(Expression(AFFINE, UNKNOWN, ()), Constant(CONSTANT, NONNEGATIVE, ())),\n",
              " Inequality(Constant(CONSTANT, ZERO, ())),\n",
              " Inequality(Constant(CONSTANT, ZERO, ())),\n",
              " Inequality(Expression(AFFINE, UNKNOWN, ())),\n",
              " Inequality(Expression(AFFINE, UNKNOWN, ()))]"
            ]
          },
          "metadata": {},
          "execution_count": 44
        }
      ],
      "source": [
        "#import cvxpy as cp\n",
        "Constraints+=[Phi_Agent_1[0]>=0, Phi_Agent_1[1]>=0 ]\n",
        "#Constraints+=[Phi_Agent_1[0]>=0, Phi_Agent_1[1]>=0, Phi_Agent_2[0]>=0, Phi_Agent_2[1]>=0, Phi_Agent_3[0]>=0, Phi_Agent_3[1]>=0 ]\n",
        "for i in range(Types_Products[0]):\n",
        "  Constraints+=[Phi_Agent_1[i]<=100000000]\n",
        " # Constraints+=[Phi_Agent_1[i]<=1000000, Phi_Agent_2[i]<=1000000, Phi_Agent_3[i]<=1000 ]\n",
        "#Constraints+[Phi_Agent_2[0]==10, Phi_Agent_2[1]==10, Phi_Agent_3[0]==12, Phi_Agent_3[1]==15]\n",
        "Constraints"
      ]
    },
    {
      "cell_type": "code",
      "execution_count": null,
      "id": "e4d597be",
      "metadata": {
        "id": "e4d597be"
      },
      "outputs": [],
      "source": [
        "Omega=cp.Parameter(3)\n",
        "Omega.value=np.array([6/10, 3/10, 1/10])\n",
        "#Types_Products=[int(Types_Products[i]) for i in range(len(Types_Products))]\n",
        "#for i in range(Number_Agents):\n",
        "#  for j in range(Types_Products[i]):\n",
        "#    Production_Variables[i][j]=cp.Variable()\n",
        "Obj=[Profit_Agent[0]@Phi_Agent_1+(Maximum_Water_Consumption_Y_j[i]-Amount_Water_acre_feet[0]@Phi_Agent_1)*v.value for i in range(3)]\n",
        "#Obj=[Profit_Agent[0]@Phi_Agent_1-Cost_Extracting_q_j[0]*(Amount_Water_acre_feet[0]@Phi_Agent_1)+(Maximum_Water_Consumption_Y_j[i]-Amount_Water_acre_feet[0]@Phi_Agent_1)*v.value for i in range(3)]"
      ]
    },
    {
      "cell_type": "code",
      "source": [
        "#len(Obj)\n",
        "#Omega=np.array([1/3, 1/3, 1/3])"
      ],
      "metadata": {
        "id": "cg8H8GDnLIah"
      },
      "id": "cg8H8GDnLIah",
      "execution_count": null,
      "outputs": []
    },
    {
      "cell_type": "code",
      "source": [
        "Obj1=[cp.log(Obj[i]) for i in range(3)]"
      ],
      "metadata": {
        "id": "fV4dfcseAHny"
      },
      "id": "fV4dfcseAHny",
      "execution_count": null,
      "outputs": []
    },
    {
      "cell_type": "code",
      "source": [
        "Objective=Omega.value @ Obj1\n",
        "Objective"
      ],
      "metadata": {
        "colab": {
          "base_uri": "https://localhost:8080/"
        },
        "id": "1biLMa61JoM8",
        "outputId": "7b704ab7-6c62-480a-9dfb-e6f2ca1bf34b"
      },
      "id": "1biLMa61JoM8",
      "execution_count": null,
      "outputs": [
        {
          "output_type": "execute_result",
          "data": {
            "text/plain": [
              "Expression(CONCAVE, UNKNOWN, ())"
            ]
          },
          "metadata": {},
          "execution_count": 47
        }
      ]
    },
    {
      "cell_type": "code",
      "source": [
        "Problem_to_solve=cp.Problem(cp.Maximize(Objective), Constraints)"
      ],
      "metadata": {
        "id": "yn5yioidDCQY"
      },
      "id": "yn5yioidDCQY",
      "execution_count": null,
      "outputs": []
    },
    {
      "cell_type": "code",
      "source": [
        "print(\"Problem Objective is DCP:\", Problem_to_solve.is_dcp())"
      ],
      "metadata": {
        "id": "iHlfCyhgPkYF",
        "colab": {
          "base_uri": "https://localhost:8080/"
        },
        "outputId": "96b585f5-fdc5-43e5-92f9-861acc51c249"
      },
      "id": "iHlfCyhgPkYF",
      "execution_count": null,
      "outputs": [
        {
          "output_type": "stream",
          "name": "stdout",
          "text": [
            "Problem Objective is DCP: True\n"
          ]
        }
      ]
    },
    {
      "cell_type": "markdown",
      "source": [],
      "metadata": {
        "id": "SaWUZgH6OqqM"
      },
      "id": "SaWUZgH6OqqM"
    },
    {
      "cell_type": "code",
      "source": [
        "Sol=Problem_to_solve.solve()\n",
        "print(Sol)"
      ],
      "metadata": {
        "colab": {
          "base_uri": "https://localhost:8080/"
        },
        "id": "Epu_1hzUUS-R",
        "outputId": "4ee9f04d-0db4-44f6-eedb-a07a5d5aa0ce"
      },
      "id": "Epu_1hzUUS-R",
      "execution_count": null,
      "outputs": [
        {
          "output_type": "stream",
          "name": "stdout",
          "text": [
            "14.674585075932537\n"
          ]
        }
      ]
    },
    {
      "cell_type": "code",
      "source": [
        "print(Phi_Agent_1.value)"
      ],
      "metadata": {
        "colab": {
          "base_uri": "https://localhost:8080/"
        },
        "id": "2Yg5LzNAah75",
        "outputId": "a0568959-8a2b-48bf-e874-fbde4c2a3c32"
      },
      "id": "2Yg5LzNAah75",
      "execution_count": null,
      "outputs": [
        {
          "output_type": "stream",
          "name": "stdout",
          "text": [
            "[17500.00728132 17499.99271868]\n"
          ]
        }
      ]
    },
    {
      "cell_type": "code",
      "source": [],
      "metadata": {
        "id": "0fJitQ5scckb"
      },
      "id": "0fJitQ5scckb",
      "execution_count": null,
      "outputs": []
    },
    {
      "cell_type": "code",
      "source": [
        "#Amount_Water_acre_feet[0]@Phi_Agent_1.value\n",
        "#np.dot(Amount_Water_acre_feet[0], Phi_Agent_1.value)\n",
        "def second_step()"
      ],
      "metadata": {
        "id": "qD-6cOwl2j2A"
      },
      "id": "qD-6cOwl2j2A",
      "execution_count": null,
      "outputs": []
    },
    {
      "cell_type": "code",
      "source": [
        "Phi_Agent_21=cp.Variable(2)\n",
        "Phi_Agent_31=np.array([2000, 3000])\n",
        "Maximum_Water_Consumption_Y_j1=np.array([100000.0, 75000.0, 50000.0])"
      ],
      "metadata": {
        "id": "kLxlSXpV8euC"
      },
      "id": "kLxlSXpV8euC",
      "execution_count": null,
      "outputs": []
    },
    {
      "cell_type": "code",
      "source": [
        "Constraints_2=[]\n",
        "Constraints_2+=[Amount_Water_acre_feet[0]@Phi_Agent_1.value + Amount_Water_acre_feet[1]@Phi_Agent_21 + Amount_Water_acre_feet[2]@Phi_Agent_31==cp.sum(Maximum_Water_Consumption_Y_j1)]\n",
        "Constraints_2+=[Phi_Agent_21[0]>=0, Phi_Agent_21[1]>=0]\n",
        "for i in range(Types_Products[1]):\n",
        "  Constraints_2+=[Phi_Agent_21[i]<=100000000]\n",
        "Constraints_2"
      ],
      "metadata": {
        "colab": {
          "base_uri": "https://localhost:8080/"
        },
        "id": "RPtrp-gnyVNC",
        "outputId": "f37be24d-6508-4e70-c6ec-ccb8cc4cccfa"
      },
      "id": "RPtrp-gnyVNC",
      "execution_count": null,
      "outputs": [
        {
          "output_type": "execute_result",
          "data": {
            "text/plain": [
              "[Equality(Expression(AFFINE, UNKNOWN, ()), Expression(CONSTANT, NONNEGATIVE, ())),\n",
              " Inequality(Constant(CONSTANT, ZERO, ())),\n",
              " Inequality(Constant(CONSTANT, ZERO, ())),\n",
              " Inequality(Expression(AFFINE, UNKNOWN, ())),\n",
              " Inequality(Expression(AFFINE, UNKNOWN, ()))]"
            ]
          },
          "metadata": {},
          "execution_count": 77
        }
      ]
    },
    {
      "cell_type": "code",
      "source": [
        "Obj2=[Profit_Agent[1]@Phi_Agent_21+(Maximum_Water_Consumption_Y_j1[i]-Amount_Water_acre_feet[1]@Phi_Agent_21)*v.value for i in range(3)]\n",
        "Obj2=[cp.log(Obj2[i]) for i in range(3)]\n",
        "Objective2=Omega.value @ Obj2\n",
        "Problem_to_solve2=cp.Problem(cp.Maximize(Objective2), Constraints_2)\n",
        "print(\"Problem Objective is DCP:\", Problem_to_solve2.is_dcp())\n",
        "Sol2=Problem_to_solve2.solve()\n",
        "print(Sol2)"
      ],
      "metadata": {
        "colab": {
          "base_uri": "https://localhost:8080/"
        },
        "id": "xZ7aMgc7x3Ef",
        "outputId": "729a2a9d-56da-489e-f137-adbc54c25138"
      },
      "id": "xZ7aMgc7x3Ef",
      "execution_count": null,
      "outputs": [
        {
          "output_type": "stream",
          "name": "stdout",
          "text": [
            "Problem Objective is DCP: True\n",
            "13.46890463172021\n"
          ]
        }
      ]
    },
    {
      "cell_type": "code",
      "source": [
        "print(Phi_Agent_21.value)"
      ],
      "metadata": {
        "colab": {
          "base_uri": "https://localhost:8080/"
        },
        "id": "IIXJqxVuSqyM",
        "outputId": "5f72d77a-8b42-4d3b-a3b7-7e2b8577db63"
      },
      "id": "IIXJqxVuSqyM",
      "execution_count": null,
      "outputs": [
        {
          "output_type": "stream",
          "name": "stdout",
          "text": [
            "[2500.00074118 2499.99925882]\n"
          ]
        }
      ]
    },
    {
      "cell_type": "code",
      "source": [
        "Phi_Agent_311=cp.Variable(2)\n",
        "#Phi_Agent_31=np.array([2000, 3000])\n",
        "Maximum_Water_Consumption_Y_j11=np.array([100000.0, 75000.0, 50000.0])\n",
        "Constraints_3=[]\n",
        "Constraints_3+=[Amount_Water_acre_feet[0]@Phi_Agent_1.value + Amount_Water_acre_feet[1]@Phi_Agent_21.value + Amount_Water_acre_feet[2]@Phi_Agent_311==cp.sum(Maximum_Water_Consumption_Y_j11)]\n",
        "Constraints_3+=[Phi_Agent_311[0]>=0, Phi_Agent_311[1]>=0]\n",
        "for i in range(Types_Products[1]):\n",
        "  Constraints_3+=[Phi_Agent_311[i]<=100000000]\n",
        "Constraints_3"
      ],
      "metadata": {
        "colab": {
          "base_uri": "https://localhost:8080/"
        },
        "id": "oK8Qlc_HUzcV",
        "outputId": "17aec194-6576-4da1-fbbb-6aee0da9091f"
      },
      "id": "oK8Qlc_HUzcV",
      "execution_count": null,
      "outputs": [
        {
          "output_type": "execute_result",
          "data": {
            "text/plain": [
              "[Equality(Expression(AFFINE, UNKNOWN, ()), Expression(CONSTANT, NONNEGATIVE, ())),\n",
              " Inequality(Constant(CONSTANT, ZERO, ())),\n",
              " Inequality(Constant(CONSTANT, ZERO, ())),\n",
              " Inequality(Expression(AFFINE, UNKNOWN, ())),\n",
              " Inequality(Expression(AFFINE, UNKNOWN, ()))]"
            ]
          },
          "metadata": {},
          "execution_count": 80
        }
      ]
    },
    {
      "cell_type": "code",
      "source": [
        "Obj3=[Profit_Agent[2]@Phi_Agent_311+(Maximum_Water_Consumption_Y_j11[i]-Amount_Water_acre_feet[2]@Phi_Agent_311)*v.value for i in range(3)]\n",
        "Obj3=[cp.log(Obj3[i]) for i in range(3)]\n",
        "Objective3=Omega.value @ Obj3\n",
        "Problem_to_solve3=cp.Problem(cp.Maximize(Objective3), Constraints_3)\n",
        "print(\"Problem Objective is DCP:\", Problem_to_solve3.is_dcp())\n",
        "Sol3=Problem_to_solve3.solve()\n",
        "print(Sol3)"
      ],
      "metadata": {
        "colab": {
          "base_uri": "https://localhost:8080/"
        },
        "id": "OnwOsoArX6gd",
        "outputId": "e3859c9c-7dfa-4223-d797-f4b4a537fb89"
      },
      "id": "OnwOsoArX6gd",
      "execution_count": null,
      "outputs": [
        {
          "output_type": "stream",
          "name": "stdout",
          "text": [
            "Problem Objective is DCP: True\n",
            "13.46890463172021\n"
          ]
        }
      ]
    },
    {
      "cell_type": "code",
      "source": [
        "print(Phi_Agent_311.value)"
      ],
      "metadata": {
        "colab": {
          "base_uri": "https://localhost:8080/"
        },
        "id": "9cVz9tj6ZCTQ",
        "outputId": "588c1813-089b-4fe4-f6b6-f5c9dcdca718"
      },
      "id": "9cVz9tj6ZCTQ",
      "execution_count": null,
      "outputs": [
        {
          "output_type": "stream",
          "name": "stdout",
          "text": [
            "[2500.0007361 2499.9992639]\n"
          ]
        }
      ]
    },
    {
      "cell_type": "code",
      "source": [],
      "metadata": {
        "id": "bMxAzrY9j0q4"
      },
      "id": "bMxAzrY9j0q4",
      "execution_count": null,
      "outputs": []
    },
    {
      "cell_type": "code",
      "source": [
        "# I get the keys of the dictionnary Profit_Agent\n",
        "#keysdict_Profit_Agent=list(Profit_Agent.keys())\n",
        "#keysdict_Profit_Agent[0]"
      ],
      "metadata": {
        "id": "hQecEhFiCSH_"
      },
      "id": "hQecEhFiCSH_",
      "execution_count": null,
      "outputs": []
    },
    {
      "cell_type": "code",
      "source": [
        "#Keysdict_Amount_Water_acre_feet=list(Amount_Water_acre_feet.keys())\n",
        "#Keysdict_Amount_Water_acre_feet[0]"
      ],
      "metadata": {
        "id": "Exq75eHWGlJN"
      },
      "id": "Exq75eHWGlJN",
      "execution_count": null,
      "outputs": []
    },
    {
      "cell_type": "code",
      "source": [
        "#List3=[\"Function_\"+str(i) for i in range(Number_Agents)]\n",
        "#List3"
      ],
      "metadata": {
        "id": "nylh1mSZEktM"
      },
      "id": "nylh1mSZEktM",
      "execution_count": null,
      "outputs": []
    },
    {
      "cell_type": "code",
      "source": [
        "#List4=[np.dot(Production_Variables[0],Profit_Agent[keysdict_Profit_Agent[0]])-Cost_Extracting_q_j[0]*np.dot(Production_Variables[0],Amount_Water_acre_feet[Keysdict_Amount_Water_acre_feet[0]])+(Maximum_Water_Consumption-np.dot(Production_Variables[0],Amount_Water_acre_feet[Keysdict_Amount_Water_acre_feet[0]]))*v for Maximum_Water_Consumption in Maximum_Water_Consumption_Y_j]"
      ],
      "metadata": {
        "id": "at1EpQ_gR2IA"
      },
      "id": "at1EpQ_gR2IA",
      "execution_count": null,
      "outputs": []
    },
    {
      "cell_type": "code",
      "source": [
        "#List4=[np.dot(Production_Variables[i],Profit_Agent[keysdict_Profit_Agent[i]])-Cost_Extracting_q_j[i]*np.dot(Production_Variables[i],Amount_Water_acre_feet[Keysdict_Amount_Water_acre_feet[i]])+(Maximum_Water_Consumption_Y_j[i]-np.dot(Production_Variables[i],Amount_Water_acre_feet[Keysdict_Amount_Water_acre_feet[i]]))*v for i in range(Number_Agents)]\n",
        "#List4"
      ],
      "metadata": {
        "id": "jhzNv4vfE0DI"
      },
      "id": "jhzNv4vfE0DI",
      "execution_count": null,
      "outputs": []
    },
    {
      "cell_type": "code",
      "source": [
        "#Dict_of_Functions=dict(zip(List3, List4))\n",
        "#Dict_of_Functions"
      ],
      "metadata": {
        "id": "8d77mw6DI-3z"
      },
      "id": "8d77mw6DI-3z",
      "execution_count": null,
      "outputs": []
    },
    {
      "cell_type": "code",
      "source": [
        "#for i in range(1, Number_Agents):\n",
        " # for j in range(len(Production_Variables[i])):\n",
        "  #  Production_Variables[i][j]=int(input(f\"Please enter a positive integer as initial production quantities phi{i}{j}: \"))"
      ],
      "metadata": {
        "id": "xrflHgvRFK7L"
      },
      "id": "xrflHgvRFK7L",
      "execution_count": null,
      "outputs": []
    },
    {
      "cell_type": "code",
      "execution_count": null,
      "id": "3e2ebf2e",
      "metadata": {
        "id": "3e2ebf2e"
      },
      "outputs": [],
      "source": [
        "#F_1=np.dot(Production_Variables[0],Profit_Agent['Profit_Agent_0'])-Cost_Extracting_q_j[0]*np.dot(Production_Variables[0],Amount_Water_acre_feet['Unit_of Good_Water_Consumption_per_Good_Per_Agent_0'])+(Maximum_Water_Consumption_Y_j[0]-np.dot(Production_Variables[0],Amount_Water_acre_feet['Unit_of Good_Water_Consumption_per_Good_Per_Agent_0']))*v\n",
        "#F_2=np.dot(Production_Variables[1],Profit_Agent['Profit_Agent_1'])-Cost_Extracting_q_j[1]*np.dot(Production_Variables[1],Amount_Water_acre_feet['Unit_of Good_Water_Consumption_per_Good_Per_Agent_1'])+(Maximum_Water_Consumption_Y_j[1]-np.dot(Production_Variables[1],Amount_Water_acre_feet['Unit_of Good_Water_Consumption_per_Good_Per_Agent_1']))*v\n",
        "#F_3=np.dot(Production_Variables[2],Profit_Agent['Profit_Agent_2'])-Cost_Extracting_q_j[2]*np.dot(Production_Variables[2],Amount_Water_acre_feet['Unit_of Good_Water_Consumption_per_Good_Per_Agent_2'])+(Maximum_Water_Consumption_Y_j[2]-np.dot(Production_Variables[2],Amount_Water_acre_feet['Unit_of Good_Water_Consumption_per_Good_Per_Agent_2']))*v"
      ]
    },
    {
      "cell_type": "code",
      "source": [
        "#constraint_Universal_1=[Production_Variables[i][j]>=0 for i in range(Number_Agents) for j in range(len(Production_Variables[i]))]\n",
        "#constraint_Universal_1"
      ],
      "metadata": {
        "id": "xk2rAcYzMlu3"
      },
      "id": "xk2rAcYzMlu3",
      "execution_count": null,
      "outputs": []
    },
    {
      "cell_type": "code",
      "source": [
        "#Production_Limits_of_each_Good=[get_array_of_size_k(i) for i in Types_Products]\n",
        "#Production_Limits_of_each_Good"
      ],
      "metadata": {
        "id": "8dOOzUaISBmu"
      },
      "id": "8dOOzUaISBmu",
      "execution_count": null,
      "outputs": []
    },
    {
      "cell_type": "code",
      "source": [
        "#Sum_Upper_Bound=np.sum([Production_Limits_of_each_Good[i][j] for i in range(Number_Agents) for j in range(len(Production_Limits_of_each_Good[i]))])\n",
        "#Sum_Upper_Bound"
      ],
      "metadata": {
        "id": "DV8ukK8Jfm88"
      },
      "id": "DV8ukK8Jfm88",
      "execution_count": null,
      "outputs": []
    },
    {
      "cell_type": "code",
      "source": [
        "#constraint_Universal_2=[Production_Variables[i][j]<=Production_Limits_of_each_Good[i][j] for i in range(0, Number_Agents-2) for j in range(len(Production_Variables[i]))]\n",
        "#Constraint_Universal_3=[np.dot(Production_Variables[i], Amount_Water_acre_feet[Keysdict_Amount_Water_acre_feet[i]]) for i in range(Number_Agents)]\n",
        "#Constraint_Universal_3_Final=[np.sum(Constraint_Universal_3)==Sum_Upper_Bound]\n",
        "#All_Constraint=np.append(constraint_Universal_1, constraint_Universal_2)\n",
        "#All_Constraint_Final=np.append(All_Constraint, np.array(Constraint_Universal_3_Final))\n",
        "#All_Constraint_Final\n",
        "#obj1= np.dot(Production_Variables[0],Profit_Agent[keysdict_Profit_Agent[0]])-Cost_Extracting_q_j[0]*np.dot(Production_Variables[0], Amount_Water_acre_feet[Keysdict_Amount_Water_acre_feet[0]])+(float(Maximum_Water_Consumption_Y_j[0])-np.dot(Production_Variables[0], Amount_Water_acre_feet[Keysdict_Amount_Water_acre_feet[0]]))*v\n",
        "#obj2= np.dot(Production_Variables[0],Profit_Agent[keysdict_Profit_Agent[0]])-Cost_Extracting_q_j[0]*np.dot(Production_Variables[0], Amount_Water_acre_feet[Keysdict_Amount_Water_acre_feet[0]])+(float(Maximum_Water_Consumption_Y_j[1])-np.dot(Production_Variables[0], Amount_Water_acre_feet[Keysdict_Amount_Water_acre_feet[0]]))*v\n",
        "#obj3=np.dot(Production_Variables[0],Profit_Agent[keysdict_Profit_Agent[0]])-Cost_Extracting_q_j[0]*np.dot(Production_Variables[0], Amount_Water_acre_feet[Keysdict_Amount_Water_acre_feet[0]])+(float(Maximum_Water_Consumption_Y_j[2])-np.dot(Production_Variables[0], Amount_Water_acre_feet[Keysdict_Amount_Water_acre_feet[0]]))*v\n",
        "#w1=1/10\n",
        "#w2=2/10\n",
        "#Omega=np.array([w1, w2, 1-w1-w2])\n",
        "#Objective=np.dot(Omega, [obj1, obj2, obj3])\n",
        "#print(Omega)\n",
        "#Objective_Total=cp.Problem(cp.Maximize(Objective), All_Constraint_Final)\n",
        "#print(\"Problem Objective is DCP:\", Objective_Total.is_dcp())\n",
        "#Answer=Objective_Total.solve()\n",
        "#print(Answer)"
      ],
      "metadata": {
        "id": "Fv1Wxg-WRQbA"
      },
      "id": "Fv1Wxg-WRQbA",
      "execution_count": null,
      "outputs": []
    },
    {
      "cell_type": "code",
      "source": [
        "#Constraint_Universal_3=[np.dot(Production_Variables[i], Amount_Water_acre_feet[Keysdict_Amount_Water_acre_feet[i]]) for i in range(Number_Agents)]\n",
        "#Constraint_Universal_3_Final=[np.sum(Constraint_Universal_3)==Sum_Upper_Bound]"
      ],
      "metadata": {
        "id": "xBaYMUBRcsS-"
      },
      "id": "xBaYMUBRcsS-",
      "execution_count": null,
      "outputs": []
    },
    {
      "cell_type": "code",
      "source": [
        "#All_Constraint=np.append(constraint_Universal_1, constraint_Universal_2)\n",
        "#All_Constraint_Final=np.append(All_Constraint, np.array(Constraint_Universal_3_Final))\n",
        "#All_Constraint_Final"
      ],
      "metadata": {
        "id": "dO9k_rf4hFQz"
      },
      "id": "dO9k_rf4hFQz",
      "execution_count": null,
      "outputs": []
    },
    {
      "cell_type": "code",
      "source": [],
      "metadata": {
        "id": "bRQp6lbHj31_"
      },
      "id": "bRQp6lbHj31_",
      "execution_count": null,
      "outputs": []
    },
    {
      "cell_type": "code",
      "source": [
        "#Constraint_Universal_3=[ np.dot(Production_Variables[0], Amount_Water_acre_feet['Unit_of Good_Water_Consumption_per_Good_Per_Agent_0']) + np.dot(Production_Variables[1], Amount_Water_acre_feet['Unit_of Good_Water_Consumption_per_Good_Per_Agent_1'])+np.dot(Production_Variables[2], Amount_Water_acre_feet['Unit_of Good_Water_Consumption_per_Good_Per_Agent_2'])==Maximum_Water_Consumption_Y_j[0]+Maximum_Water_Consumption_Y_j[1]+ Maximum_Water_Consumption_Y_j[2]]"
      ],
      "metadata": {
        "id": "B5k-rcC0XHko"
      },
      "id": "B5k-rcC0XHko",
      "execution_count": null,
      "outputs": []
    },
    {
      "cell_type": "code",
      "execution_count": null,
      "id": "7b6e048d",
      "metadata": {
        "id": "7b6e048d"
      },
      "outputs": [],
      "source": [
        "\n",
        "#constraint=[Production_Variables[0][0]>=0, Production_Variables[0][0]<=100000, Production_Variables[1][0]>=0, Production_Variables[1][0]<=100000, Production_Variables[2][0]>=0, Production_Variables[2][0]<=100000, Production_Variables[2][1]>=0, Production_Variables[2][1]<=100000, np.dot(Production_Variables[0], Amount_Water_acre_feet['Unit_of Good_Water_Consumption_per_Good_Per_Agent_0']) + np.dot(Production_Variables[1], Amount_Water_acre_feet['Unit_of Good_Water_Consumption_per_Good_Per_Agent_1'])+np.dot(Production_Variables[2], Amount_Water_acre_feet['Unit_of Good_Water_Consumption_per_Good_Per_Agent_2'])==Maximum_Water_Consumption_Y_j[0]+Maximum_Water_Consumption_Y_j[1]+ Maximum_Water_Consumption_Y_j[2]]"
      ]
    },
    {
      "cell_type": "code",
      "execution_count": null,
      "id": "13bbd67f",
      "metadata": {
        "id": "13bbd67f"
      },
      "outputs": [],
      "source": [
        "#np.dot(Production_Variables[0],Amount_Water_acre_feet['Unit_of Good_Water_Consumption_per_Good_Per_Agent_0'])+\n",
        "#np.dot(Production_Variables[1],Amount_Water_acre_feet['Unit_of Good_Water_Consumption_per_Good_Per_Agent_1'])+\n",
        "#np.dot(Production_Variables[2],Amount_Water_acre_feet['Unit_of Good_Water_Consumption_per_Good_Per_Agent_2'])==Maximum_Water_Consumption_Y_j[0]+\n",
        "#Maximum_Water_Consumption_Y_j[1]+Maximum_Water_Consumption_Y_j[2]"
      ]
    },
    {
      "cell_type": "code",
      "source": [
        "#from numbers import Number\n",
        "#Vector of size the number of agents minus 1 (n-1)\n",
        "#Omega_Prime=[random.random() for i in range(Number_Agents-1)]\n",
        "#Omega=np.append(Omega_Prime, np.array([1-np.sum(Omega_Prime)]))\n",
        "#Omega"
      ],
      "metadata": {
        "id": "PT-vB-rrlekR"
      },
      "id": "PT-vB-rrlekR",
      "execution_count": null,
      "outputs": []
    },
    {
      "cell_type": "code",
      "source": [],
      "metadata": {
        "id": "W2CBHeCXeOCF"
      },
      "id": "W2CBHeCXeOCF",
      "execution_count": null,
      "outputs": []
    },
    {
      "cell_type": "code",
      "source": [
        "#obj1= np.dot(Production_Variables[0],Profit_Agent[keysdict_Profit_Agent[0]])-Cost_Extracting_q_j[0]*np.dot(Production_Variables[0], Amount_Water_acre_feet[Keysdict_Amount_Water_acre_feet[0]])+(float(Maximum_Water_Consumption_Y_j[0])-np.dot(Production_Variables[0], Amount_Water_acre_feet[Keysdict_Amount_Water_acre_feet[0]]))*v\n",
        "#obj2= np.dot(Production_Variables[0],Profit_Agent[keysdict_Profit_Agent[0]])-Cost_Extracting_q_j[0]*np.dot(Production_Variables[0], Amount_Water_acre_feet[Keysdict_Amount_Water_acre_feet[0]])+(float(Maximum_Water_Consumption_Y_j[1])-np.dot(Production_Variables[0], Amount_Water_acre_feet[Keysdict_Amount_Water_acre_feet[0]]))*v\n",
        "#obj3=np.dot(Production_Variables[0],Profit_Agent[keysdict_Profit_Agent[0]])-Cost_Extracting_q_j[0]*np.dot(Production_Variables[0], Amount_Water_acre_feet[Keysdict_Amount_Water_acre_feet[0]])+(float(Maximum_Water_Consumption_Y_j[2])-np.dot(Production_Variables[0], Amount_Water_acre_feet[Keysdict_Amount_Water_acre_feet[0]]))*v"
      ],
      "metadata": {
        "id": "SSu6jKazkm_0"
      },
      "id": "SSu6jKazkm_0",
      "execution_count": null,
      "outputs": []
    },
    {
      "cell_type": "code",
      "execution_count": null,
      "id": "bedf9e46",
      "metadata": {
        "id": "bedf9e46"
      },
      "outputs": [],
      "source": [
        "#w1=random.random()\n",
        "#w2=random.random()\n",
        "#Omega=np.array([w1, w2, 1-w1-w2])\n",
        "#obj=np.dot(Omega, [cp.log(item) for item in List4])\n",
        "#obj=np.dot(Omega, cp.log(np.array(list(Dict_of_Functions.values()))))\n",
        "#obj1=np.dot(Production_Variables[0],Profit_Agent[keysdict_Profit_Agent[0]])-Cost_Extracting_q_j[0]*np.dot(Production_Variables[0], Amount_Water_acre_feet[Keysdict_Amount_Water_acre_feet[0]])+(float(Maximum_Water_Consumption_Y_j[0])-np.dot(Production_Variables[0], Amount_Water_acre_feet[Keysdict_Amount_Water_acre_feet[0]]))*v\n",
        "#obj= np.dot(Production_Variables[0],Profit_Agent[keysdict_Profit_Agent[0]])-Cost_Extracting_q_j[0]*np.dot(Production_Variables[0], Amount_Water_acre_feet[Keysdict_Amount_Water_acre_feet[0]])+(float(Maximum_Water_Consumption_Y_j[0])-np.dot(Production_Variables[0], Amount_Water_acre_feet[Keysdict_Amount_Water_acre_feet[0]]))*v\n",
        "#+ np.dot(Production_Variables[0],Profit_Agent[keysdict_Profit_Agent[0]])-Cost_Extracting_q_j[0]*np.dot(Production_Variables[0], Amount_Water_acre_feet[Keysdict_Amount_Water_acre_feet[0]])+(float(Maximum_Water_Consumption_Y_j[1])-np.dot(Production_Variables[0], Amount_Water_acre_feet[Keysdict_Amount_Water_acre_feet[0]]))*v\n",
        "#+np.dot(Production_Variables[0],Profit_Agent[keysdict_Profit_Agent[0]])-Cost_Extracting_q_j[0]*np.dot(Production_Variables[0], Amount_Water_acre_feet[Keysdict_Amount_Water_acre_feet[0]])+(float(Maximum_Water_Consumption_Y_j[2])-np.dot(Production_Variables[0], Amount_Water_acre_feet[Keysdict_Amount_Water_acre_feet[0]]))*v"
      ]
    },
    {
      "cell_type": "code",
      "source": [
        "#Omega=np.array([1/10, 8/10, 1/10])\n",
        "#w1=1/3\n",
        "#w2=1/3\n",
        "#Omega=np.array([w1, w2, 1-w1-w2])\n",
        "#Objective=np.dot(Omega, [obj1, obj2, obj3])\n",
        "#print(Omega)"
      ],
      "metadata": {
        "id": "b9Rlu-HWltrf"
      },
      "id": "b9Rlu-HWltrf",
      "execution_count": null,
      "outputs": []
    },
    {
      "cell_type": "code",
      "source": [
        "#All_Constraint"
      ],
      "metadata": {
        "id": "qmbXXqz3H6VW"
      },
      "id": "qmbXXqz3H6VW",
      "execution_count": null,
      "outputs": []
    },
    {
      "cell_type": "code",
      "execution_count": null,
      "id": "4b1dc12b",
      "metadata": {
        "id": "4b1dc12b"
      },
      "outputs": [],
      "source": [
        "#Objective_Total=cp.Problem(cp.Maximize(Objective), All_Constraint_Final)"
      ]
    },
    {
      "cell_type": "code",
      "source": [
        "#print(\"Problem Objective is DCP:\", Objective_Total.is_dcp())"
      ],
      "metadata": {
        "id": "13G4tjdbsuHQ"
      },
      "id": "13G4tjdbsuHQ",
      "execution_count": null,
      "outputs": []
    },
    {
      "cell_type": "code",
      "source": [
        "#Answer=Objective_Total.solve()\n",
        "#print(Answer)"
      ],
      "metadata": {
        "id": "zougNfzvS-WS"
      },
      "id": "zougNfzvS-WS",
      "execution_count": null,
      "outputs": []
    },
    {
      "cell_type": "code",
      "source": [
        "#for i in range(Number_Agents):\n",
        " # for j in range(Types_Products[i]):\n",
        "  #  print(Production_Variables[i][j].value)"
      ],
      "metadata": {
        "id": "ruShd08nUkkY"
      },
      "id": "ruShd08nUkkY",
      "execution_count": null,
      "outputs": []
    },
    {
      "cell_type": "code",
      "source": [],
      "metadata": {
        "id": "UDUNGBBnPzqt"
      },
      "id": "UDUNGBBnPzqt",
      "execution_count": null,
      "outputs": []
    }
  ],
  "metadata": {
    "kernelspec": {
      "display_name": "Python 3 (ipykernel)",
      "language": "python",
      "name": "python3"
    },
    "language_info": {
      "codemirror_mode": {
        "name": "ipython",
        "version": 3
      },
      "file_extension": ".py",
      "mimetype": "text/x-python",
      "name": "python",
      "nbconvert_exporter": "python",
      "pygments_lexer": "ipython3",
      "version": "3.9.7"
    },
    "colab": {
      "provenance": [],
      "toc_visible": true,
      "include_colab_link": true
    }
  },
  "nbformat": 4,
  "nbformat_minor": 5
}